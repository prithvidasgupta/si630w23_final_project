{
 "cells": [
  {
   "cell_type": "code",
   "execution_count": 14,
   "metadata": {},
   "outputs": [],
   "source": [
    "from transformers import pipeline\n",
    "import torch\n",
    "from tqdm import tqdm\n",
    "import pandas as pd\n",
    "\n",
    "pipe = pipeline(model=\"MaRiOrOsSi/t5-base-finetuned-question-answering\")"
   ]
  },
  {
   "cell_type": "code",
   "execution_count": 15,
   "metadata": {},
   "outputs": [
    {
     "data": {
      "text/html": [
       "<div>\n",
       "<style scoped>\n",
       "    .dataframe tbody tr th:only-of-type {\n",
       "        vertical-align: middle;\n",
       "    }\n",
       "\n",
       "    .dataframe tbody tr th {\n",
       "        vertical-align: top;\n",
       "    }\n",
       "\n",
       "    .dataframe thead th {\n",
       "        text-align: right;\n",
       "    }\n",
       "</style>\n",
       "<table border=\"1\" class=\"dataframe\">\n",
       "  <thead>\n",
       "    <tr style=\"text-align: right;\">\n",
       "      <th></th>\n",
       "      <th>s1</th>\n",
       "      <th>s2</th>\n",
       "    </tr>\n",
       "  </thead>\n",
       "  <tbody>\n",
       "    <tr>\n",
       "      <th>0</th>\n",
       "      <td>The Iago sparrow (Passer iagoensis), also know...</td>\n",
       "      <td>Iago sparrow scientific name Passer iagoensis</td>\n",
       "    </tr>\n",
       "    <tr>\n",
       "      <th>1</th>\n",
       "      <td>The Ibadan malimbe (Malimbus ibadanensis) is a...</td>\n",
       "      <td>Ibadan malimbe scientific name Malimbus ibadan...</td>\n",
       "    </tr>\n",
       "    <tr>\n",
       "      <th>2</th>\n",
       "      <td>The Ibera seedeater (Sporophila iberaensis) is...</td>\n",
       "      <td>Ibera seedeater scientific name Sporophila ibe...</td>\n",
       "    </tr>\n",
       "    <tr>\n",
       "      <th>3</th>\n",
       "      <td>The Iberian chiffchaff (Phylloscopus ibericus)...</td>\n",
       "      <td>Iberian chiffchaff scientific name Phylloscopu...</td>\n",
       "    </tr>\n",
       "    <tr>\n",
       "      <th>4</th>\n",
       "      <td>The Iberian green woodpecker (Picus sharpei) i...</td>\n",
       "      <td>Iberian green woodpecker scientific name Picus...</td>\n",
       "    </tr>\n",
       "    <tr>\n",
       "      <th>...</th>\n",
       "      <td>...</td>\n",
       "      <td>...</td>\n",
       "    </tr>\n",
       "    <tr>\n",
       "      <th>173</th>\n",
       "      <td>The Guatemalan tyrannulet or paltry tyrannulet...</td>\n",
       "      <td>Guatemalan tyrannulet alternate name paltry ty...</td>\n",
       "    </tr>\n",
       "    <tr>\n",
       "      <th>174</th>\n",
       "      <td>The Guianan schiffornis or olivaceous schiffor...</td>\n",
       "      <td>Guianan schiffornis alternate name olivaceous ...</td>\n",
       "    </tr>\n",
       "    <tr>\n",
       "      <th>175</th>\n",
       "      <td>The Guianan toucanet, or Guyana toucanet (Sele...</td>\n",
       "      <td>Guianan toucanet alternate name Guyana toucanet</td>\n",
       "    </tr>\n",
       "    <tr>\n",
       "      <th>176</th>\n",
       "      <td>Güldenstädt's redstart (Phoenicurus erythrogas...</td>\n",
       "      <td>Güldenstädt's redstart alternate name white-wi...</td>\n",
       "    </tr>\n",
       "    <tr>\n",
       "      <th>177</th>\n",
       "      <td>Gurney's pitta (Hydrornis gurneyi) (Thai: นกแต...</td>\n",
       "      <td>Gurney's pitta alternate name นกแต้วแร้วท้องดำ</td>\n",
       "    </tr>\n",
       "  </tbody>\n",
       "</table>\n",
       "<p>893 rows × 2 columns</p>\n",
       "</div>"
      ],
      "text/plain": [
       "                                                    s1  \\\n",
       "0    The Iago sparrow (Passer iagoensis), also know...   \n",
       "1    The Ibadan malimbe (Malimbus ibadanensis) is a...   \n",
       "2    The Ibera seedeater (Sporophila iberaensis) is...   \n",
       "3    The Iberian chiffchaff (Phylloscopus ibericus)...   \n",
       "4    The Iberian green woodpecker (Picus sharpei) i...   \n",
       "..                                                 ...   \n",
       "173  The Guatemalan tyrannulet or paltry tyrannulet...   \n",
       "174  The Guianan schiffornis or olivaceous schiffor...   \n",
       "175  The Guianan toucanet, or Guyana toucanet (Sele...   \n",
       "176  Güldenstädt's redstart (Phoenicurus erythrogas...   \n",
       "177  Gurney's pitta (Hydrornis gurneyi) (Thai: นกแต...   \n",
       "\n",
       "                                                    s2  \n",
       "0        Iago sparrow scientific name Passer iagoensis  \n",
       "1    Ibadan malimbe scientific name Malimbus ibadan...  \n",
       "2    Ibera seedeater scientific name Sporophila ibe...  \n",
       "3    Iberian chiffchaff scientific name Phylloscopu...  \n",
       "4    Iberian green woodpecker scientific name Picus...  \n",
       "..                                                 ...  \n",
       "173  Guatemalan tyrannulet alternate name paltry ty...  \n",
       "174  Guianan schiffornis alternate name olivaceous ...  \n",
       "175    Guianan toucanet alternate name Guyana toucanet  \n",
       "176  Güldenstädt's redstart alternate name white-wi...  \n",
       "177     Gurney's pitta alternate name นกแต้วแร้วท้องดำ  \n",
       "\n",
       "[893 rows x 2 columns]"
      ]
     },
     "execution_count": 15,
     "metadata": {},
     "output_type": "execute_result"
    }
   ],
   "source": [
    "train = pd.read_csv('./bird_train.csv')\n",
    "test = pd.read_csv('./bird_test.csv')\n",
    "\n",
    "df = pd.concat((train,test))\n",
    "\n",
    "df"
   ]
  },
  {
   "cell_type": "code",
   "execution_count": 16,
   "metadata": {},
   "outputs": [
    {
     "name": "stderr",
     "output_type": "stream",
     "text": [
      "100%|██████████| 893/893 [16:52<00:00,  1.13s/it]\n"
     ]
    }
   ],
   "source": [
    "l=[]\n",
    "with torch.no_grad():\n",
    "    for context in tqdm(df['s1'].str.lower()):\n",
    "        bird = pipe(f'question: what is the bird name here?  context: {context}')\n",
    "        sname = pipe(f'question: what is the scientific name here?  context: {context}')\n",
    "        alternate = pipe(f'question: what is the alternate name of {bird[0][\"generated_text\"]}?  context: {context}')\n",
    "\n",
    "        l.append((bird[0][\"generated_text\"], sname[0][\"generated_text\"] ,alternate[0][\"generated_text\"]))"
   ]
  },
  {
   "cell_type": "code",
   "execution_count": 19,
   "metadata": {},
   "outputs": [],
   "source": [
    "base_data = pd.read_csv('cleaned_annotations.csv')\n",
    "base_data.fillna('', inplace=True)"
   ]
  },
  {
   "cell_type": "code",
   "execution_count": null,
   "metadata": {},
   "outputs": [],
   "source": [
    "base_data"
   ]
  },
  {
   "cell_type": "code",
   "execution_count": 32,
   "metadata": {},
   "outputs": [],
   "source": [
    "l1 = [x[0] for x in l] \n",
    "l2 = [x[1] for x in l]\n",
    "l3 = [x[2] for x in l]\n",
    "\n",
    "df['pred_bird'] = l1\n",
    "df['pred_sci'] = l2\n",
    "df['pred_alt'] = l3\n"
   ]
  },
  {
   "cell_type": "code",
   "execution_count": 34,
   "metadata": {},
   "outputs": [],
   "source": [
    "final = pd.merge(df, base_data, how='inner', left_on='s1', right_on='raw')"
   ]
  },
  {
   "cell_type": "code",
   "execution_count": 37,
   "metadata": {},
   "outputs": [
    {
     "name": "stdout",
     "output_type": "stream",
     "text": [
      "<class 'pandas.core.frame.DataFrame'>\n",
      "Int64Index: 893 entries, 0 to 892\n",
      "Data columns (total 10 columns):\n",
      " #   Column           Non-Null Count  Dtype \n",
      "---  ------           --------------  ----- \n",
      " 0   s1               893 non-null    object\n",
      " 1   s2               893 non-null    object\n",
      " 2   pred_bird        893 non-null    object\n",
      " 3   pred_sci         893 non-null    object\n",
      " 4   pred_alt         893 non-null    object\n",
      " 5   Unnamed: 0       893 non-null    int64 \n",
      " 6   raw              893 non-null    object\n",
      " 7   bird             893 non-null    object\n",
      " 8   alternate_names  893 non-null    object\n",
      " 9   scientific_name  893 non-null    object\n",
      "dtypes: int64(1), object(9)\n",
      "memory usage: 76.7+ KB\n"
     ]
    }
   ],
   "source": [
    "final.info()"
   ]
  },
  {
   "cell_type": "code",
   "execution_count": 41,
   "metadata": {},
   "outputs": [],
   "source": [
    "from sklearn.metrics import f1_score\n",
    "\n",
    "f1_bird = f1_score([True for _ in range(len(final))], final['pred_bird'] == final['bird'])\n",
    "f1_sci = f1_score([True for _ in range(len(final))], final['pred_sci'] == final['scientific_name'])\n",
    "f1_alt = f1_score([True for _ in range(len(final))], final['pred_alt'] == final['alternate_names'])"
   ]
  },
  {
   "cell_type": "code",
   "execution_count": 42,
   "metadata": {},
   "outputs": [
    {
     "data": {
      "text/plain": [
       "(0.17008196721311478, 0.03736263736263736, 0.10201912858660997)"
      ]
     },
     "execution_count": 42,
     "metadata": {},
     "output_type": "execute_result"
    }
   ],
   "source": [
    "f1_bird, f1_sci, f1_alt"
   ]
  },
  {
   "cell_type": "code",
   "execution_count": 43,
   "metadata": {},
   "outputs": [],
   "source": [
    "final.to_csv('pred_t5.csv',index=False)"
   ]
  }
 ],
 "metadata": {
  "kernelspec": {
   "display_name": "Python 3",
   "language": "python",
   "name": "python3"
  },
  "language_info": {
   "codemirror_mode": {
    "name": "ipython",
    "version": 3
   },
   "file_extension": ".py",
   "mimetype": "text/x-python",
   "name": "python",
   "nbconvert_exporter": "python",
   "pygments_lexer": "ipython3",
   "version": "3.10.4"
  },
  "orig_nbformat": 4
 },
 "nbformat": 4,
 "nbformat_minor": 2
}
