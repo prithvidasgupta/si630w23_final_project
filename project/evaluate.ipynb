{
 "cells": [
  {
   "cell_type": "code",
   "execution_count": 12,
   "metadata": {},
   "outputs": [],
   "source": [
    "import pandas as pd\n",
    "from sklearn.metrics import f1_score\n",
    "\n",
    "ground_truth = pd.read_csv('cleaned_annotations.csv')\n",
    "\n",
    "ground_truth = ground_truth.drop(labels=['Unnamed: 0','raw','alternate_names'], axis=1).applymap(lambda s: s.lower())[3:]"
   ]
  },
  {
   "cell_type": "code",
   "execution_count": 19,
   "metadata": {},
   "outputs": [],
   "source": [
    "bert = pd.read_csv('./cot_bert.csv')\n",
    "bert_scn = pd.read_csv('./cot_bert_scn.csv')\n",
    "ft5 = pd.read_csv('./cot_flan_t5.csv')\n",
    "ft5_scn = pd.read_csv('./cot_flan_t5_scn.csv')\n",
    "gpt2 = pd.read_csv('./cot_gpt2.csv')\n",
    "gpt2_scn = pd.read_csv('./cot_gpt2_scn.csv')\n",
    "\n",
    "predictions = pd.concat([bert,bert_scn, ft5, ft5_scn, gpt2, gpt2_scn],axis=1)\n"
   ]
  },
  {
   "cell_type": "code",
   "execution_count": 21,
   "metadata": {},
   "outputs": [],
   "source": [
    "predictions.to_csv('final_preds.csv',index=False)"
   ]
  },
  {
   "cell_type": "code",
   "execution_count": 32,
   "metadata": {},
   "outputs": [],
   "source": [
    "evaluate = pd.concat([ground_truth.reset_index(),predictions],axis=1)"
   ]
  },
  {
   "cell_type": "code",
   "execution_count": 35,
   "metadata": {},
   "outputs": [],
   "source": [
    "evaluate = evaluate.drop(labels='index', axis=1)"
   ]
  },
  {
   "cell_type": "code",
   "execution_count": 56,
   "metadata": {},
   "outputs": [],
   "source": [
    "evaluate['bert_f1'] = evaluate['bert'] == evaluate['bird']\n",
    "evaluate['flan_f1'] = evaluate['flan'] == evaluate['bird']\n",
    "evaluate['gpt2_f1'] = evaluate['gpt2'] == evaluate['bird']\n",
    "\n",
    "evaluate['bertscn_f1'] = evaluate['bert_scn'] == evaluate['scientific_name']\n",
    "evaluate['flanscn_f1'] = evaluate['flan_scn'] == evaluate['scientific_name']\n",
    "evaluate['gpt2scn_f1'] = evaluate['gpt2_scn'] == evaluate['scientific_name']"
   ]
  },
  {
   "cell_type": "code",
   "execution_count": 57,
   "metadata": {},
   "outputs": [],
   "source": [
    "evaluate['truth'] = True"
   ]
  },
  {
   "cell_type": "code",
   "execution_count": 61,
   "metadata": {},
   "outputs": [],
   "source": [
    "plot_df = pd.DataFrame((f1_score(evaluate['truth'],evaluate['bert_f1']),f1_score(evaluate['truth'],evaluate['bertscn_f1']),f1_score(evaluate['truth'],evaluate['flan_f1']),f1_score(evaluate['truth'],evaluate['flanscn_f1']),f1_score(evaluate['truth'],evaluate['gpt2_f1']),f1_score(evaluate['truth'],evaluate['gpt2scn_f1'])))\n",
    "plot_df.columns=['F1 score']\n",
    "plot_df['Model'] = ['bert-uncased-large', 'bert-uncased-large', 'flan-t5-large', 'flan-t5-large', 'GPT2-large', 'GPT2-large']\n",
    "plot_df['entity_type'] = ['Bird Name', 'Scientific Name','Bird Name', 'Scientific Name','Bird Name', 'Scientific Name']"
   ]
  },
  {
   "cell_type": "code",
   "execution_count": 59,
   "metadata": {},
   "outputs": [
    {
     "data": {
      "text/html": [
       "<div>\n",
       "<style scoped>\n",
       "    .dataframe tbody tr th:only-of-type {\n",
       "        vertical-align: middle;\n",
       "    }\n",
       "\n",
       "    .dataframe tbody tr th {\n",
       "        vertical-align: top;\n",
       "    }\n",
       "\n",
       "    .dataframe thead th {\n",
       "        text-align: right;\n",
       "    }\n",
       "</style>\n",
       "<table border=\"1\" class=\"dataframe\">\n",
       "  <thead>\n",
       "    <tr style=\"text-align: right;\">\n",
       "      <th></th>\n",
       "      <th>F1 score</th>\n",
       "      <th>model</th>\n",
       "      <th>entity_type</th>\n",
       "    </tr>\n",
       "  </thead>\n",
       "  <tbody>\n",
       "    <tr>\n",
       "      <th>0</th>\n",
       "      <td>0.000000</td>\n",
       "      <td>bert-uncased-large</td>\n",
       "      <td>Bird Name</td>\n",
       "    </tr>\n",
       "    <tr>\n",
       "      <th>1</th>\n",
       "      <td>0.000000</td>\n",
       "      <td>bert-uncased-large</td>\n",
       "      <td>Scientific Name</td>\n",
       "    </tr>\n",
       "    <tr>\n",
       "      <th>2</th>\n",
       "      <td>0.700624</td>\n",
       "      <td>flan-t5-large</td>\n",
       "      <td>Bird Name</td>\n",
       "    </tr>\n",
       "    <tr>\n",
       "      <th>3</th>\n",
       "      <td>0.764822</td>\n",
       "      <td>flan-t5-large</td>\n",
       "      <td>Scientific Name</td>\n",
       "    </tr>\n",
       "    <tr>\n",
       "      <th>4</th>\n",
       "      <td>0.815166</td>\n",
       "      <td>GPT2-large</td>\n",
       "      <td>Bird Name</td>\n",
       "    </tr>\n",
       "    <tr>\n",
       "      <th>5</th>\n",
       "      <td>0.936170</td>\n",
       "      <td>GPT2-large</td>\n",
       "      <td>Scientific Name</td>\n",
       "    </tr>\n",
       "  </tbody>\n",
       "</table>\n",
       "</div>"
      ],
      "text/plain": [
       "   F1 score               model      entity_type\n",
       "0  0.000000  bert-uncased-large        Bird Name\n",
       "1  0.000000  bert-uncased-large  Scientific Name\n",
       "2  0.700624       flan-t5-large        Bird Name\n",
       "3  0.764822       flan-t5-large  Scientific Name\n",
       "4  0.815166          GPT2-large        Bird Name\n",
       "5  0.936170          GPT2-large  Scientific Name"
      ]
     },
     "execution_count": 59,
     "metadata": {},
     "output_type": "execute_result"
    }
   ],
   "source": [
    "plot_df"
   ]
  },
  {
   "cell_type": "code",
   "execution_count": 63,
   "metadata": {},
   "outputs": [
    {
     "data": {
      "text/plain": [
       "Text(0.5, 1.0, 'Model Performances')"
      ]
     },
     "execution_count": 63,
     "metadata": {},
     "output_type": "execute_result"
    },
    {
     "data": {
      "image/png": "[encoded data removed]",
      "text/plain": [
       "<Figure size 640x480 with 1 Axes>"
      ]
     },
     "metadata": {},
     "output_type": "display_data"
    }
   ],
   "source": [
    "import seaborn as sns\n",
    "import matplotlib.pyplot as plt\n",
    "\n",
    "sns.barplot(data=plot_df, x='Model', y='F1 score', hue='entity_type')\n",
    "plt.title('Model Performances')"
   ]
  },
  {
   "cell_type": "code",
   "execution_count": null,
   "metadata": {},
   "outputs": [],
   "source": []
  }
 ],
 "metadata": {
  "kernelspec": {
   "display_name": "Python 3",
   "language": "python",
   "name": "python3"
  },
  "language_info": {
   "codemirror_mode": {
    "name": "ipython",
    "version": 3
   },
   "file_extension": ".py",
   "mimetype": "text/x-python",
   "name": "python",
   "nbconvert_exporter": "python",
   "pygments_lexer": "ipython3",
   "version": "3.10.4"
  },
  "orig_nbformat": 4
 },
 "nbformat": 4,
 "nbformat_minor": 2
}
