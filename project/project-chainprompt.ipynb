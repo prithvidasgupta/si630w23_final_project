{
 "cells": [
  {
   "cell_type": "code",
   "execution_count": 4,
   "metadata": {},
   "outputs": [],
   "source": [
    "from openprompt.prompts import MixedTemplate\n",
    "from openprompt.pipeline_base import PromptForGeneration, PromptDataLoader\n",
    "from openprompt.plms import load_plm\n",
    "from openprompt import plms\n",
    "from openprompt.plms import *\n",
    "from transformers import GPTJConfig, GPTJModel, GPTJForCausalLM\n",
    "plms._MODEL_CLASSES[\"gptj\"]= ModelClass(**{\"config\": GPTJConfig, \"tokenizer\": GPT2Tokenizer, \"model\": GPTJForCausalLM,\n",
    "\"wrapper\": LMTokenizerWrapper})\n",
    "import pandas as pd\n",
    "from openprompt.data_utils import InputExample\n",
    "from tqdm import tqdm"
   ]
  },
  {
   "cell_type": "code",
   "execution_count": null,
   "metadata": {},
   "outputs": [
    {
     "data": {
      "application/vnd.jupyter.widget-view+json": {
       "model_id": "e43eb46d5831497e9cfa943031c8cacd",
       "version_major": 2,
       "version_minor": 0
      },
      "text/plain": [
       "Downloading:   0%|          | 0.00/930 [00:00<?, ?B/s]"
      ]
     },
     "metadata": {},
     "output_type": "display_data"
    },
    {
     "data": {
      "application/vnd.jupyter.widget-view+json": {
       "model_id": "c815f2a99084405191e7d4d3617f9fea",
       "version_major": 2,
       "version_minor": 0
      },
      "text/plain": [
       "Downloading:   0%|          | 0.00/22.5G [00:00<?, ?B/s]"
      ]
     },
     "metadata": {},
     "output_type": "display_data"
    }
   ],
   "source": [
    "use_cuda = True\n",
    "# plm, tokenizer, model_config, wrapper = load_plm(\"bert\", \"bert-large-uncased\")\n",
    "# plm, tokenizer, model_config, wrapper = load_plm(\"roberta\", \"roberta-large\")\n",
    "# plm, tokenizer, model_config, wrapper = load_plm(\"gpt2\", \"gpt2-large\")\n",
    "# plm, tokenizer, model_config, wrapper = load_plm(\"t5\", \"google/flan-t5-large\")\n",
    "plm, tokenizer, model_config, wrapper = load_plm(\"gptj\", \"EleutherAI/gpt-j-6b\")"
   ]
  },
  {
   "cell_type": "code",
   "execution_count": null,
   "metadata": {},
   "outputs": [],
   "source": [
    "data = pd.read_csv('./cleaned_annotations.csv')\n",
    "\n",
    "data = data.drop(labels=['alternate_names'],axis=1)\n",
    "\n",
    "data['raw'] = data.raw.str.lower()\n",
    "data['bird'] = data.bird.str.lower()\n",
    "data['scientific_name'] = data.scientific_name.str.lower()\n",
    "\n",
    "sentences = []\n",
    "def create_sentences(row):\n",
    "    sentences.append(f\"{row['raw']}.\\nhere the common name of the bird is {row['bird']}.\")\n",
    "    sentences.append(f\"{row['raw']}.\\nhere the scientific name of {row['bird']} is {row['scientific_name']}.\")\n",
    "\n",
    "data[:2].apply(create_sentences,axis=1)\n",
    "\n",
    "#chain of thought\n",
    "cot_example = '\\n'.join(sentences)\n",
    "\n",
    "bird_template_text = cot_example + \"\"\"\\n{\\\"placeholder\\\":\\\"text_a\\\"}\\nhere the common name of the bird is {\\\"mask\\\"}.\"\"\"\n",
    "bird_input_data = list(data.apply(lambda x: InputExample(text_a=x['raw'], guid=x.name, tgt_text=x['bird']), axis=1).values)\n",
    "template = MixedTemplate(plm, tokenizer, text=bird_template_text)\n"
   ]
  },
  {
   "cell_type": "code",
   "execution_count": null,
   "metadata": {},
   "outputs": [],
   "source": [
    "# %%\n",
    "generation_arguments = {\n",
    "    \"max_new_tokens\": 10,\n",
    "    \"min_length\": 1,\n",
    "    \"temperature\": 1.0,\n",
    "    \"do_sample\": False,\n",
    "    \"top_k\": 0,\n",
    "    \"top_p\": 0.9,\n",
    "    \"repetition_penalty\": 2.0,\n",
    "    \"num_beams\": 5,\n",
    "}\n",
    "\n",
    "dataloader = PromptDataLoader(dataset=bird_input_data[3:],\n",
    "                              template=template,\n",
    "                              tokenizer=tokenizer,\n",
    "                              tokenizer_wrapper_class=wrapper,\n",
    "                              max_seq_length=512,\n",
    "                              decoder_max_length=4,\n",
    "                              batch_size=1)\n",
    "# %%\n",
    "model = PromptForGeneration(plm, template, freeze_plm=True, plm_eval_mode=True, tokenizer=tokenizer)\n",
    "if use_cuda:\n",
    "    model = model.cuda()\n",
    "# %%\n",
    "preds = []\n",
    "for i, inputs in tqdm(enumerate(dataloader),total=len(dataloader)):\n",
    "    if use_cuda:\n",
    "        inputs = inputs.cuda()\n",
    "    _, output_sentence = model.generate(inputs, **generation_arguments)\n",
    "    preds.append(output_sentence[0].split('.')[0].split(' or ')[0].strip())\n",
    "\n",
    "# %%"
   ]
  },
  {
   "cell_type": "code",
   "execution_count": null,
   "metadata": {},
   "outputs": [],
   "source": [
    "pd.DataFrame(preds).to_csv('cot_gptj.csv',index=False)"
   ]
  },
  {
   "cell_type": "code",
   "execution_count": null,
   "metadata": {},
   "outputs": [],
   "source": [
    "scn_template_text = cot_example + \"\"\"\\n{\\\"placeholder\\\":\\\"text_a\\\"}\\nhere scientific name of {\\\"placeholder\\\":\\\"text_b\\\"} is {\\\"mask\\\"}.\"\"\"\n",
    "scn_input_data = list(data.apply(lambda x: InputExample(text_a=x['raw'],text_b=preds[int(x.name)-3], guid=x.name, tgt_text=x['scientific_name']), axis=1).values)\n",
    "scn_template = MixedTemplate(plm, tokenizer, text=scn_template_text)\n"
   ]
  },
  {
   "cell_type": "code",
   "execution_count": null,
   "metadata": {},
   "outputs": [],
   "source": [
    "# %%\n",
    "generation_arguments = {\n",
    "    \"max_new_tokens\": 10,\n",
    "    \"min_length\": 1,\n",
    "    \"temperature\": 1.0,\n",
    "    \"do_sample\": False,\n",
    "    \"top_k\": 0,\n",
    "    \"top_p\": 0.9,\n",
    "    \"repetition_penalty\": 2.0,\n",
    "    \"num_beams\": 5,\n",
    "}\n",
    "\n",
    "dataloader = PromptDataLoader(dataset=scn_input_data[3:],\n",
    "                              template=scn_template,\n",
    "                              tokenizer=tokenizer,\n",
    "                              tokenizer_wrapper_class=wrapper,\n",
    "                              max_seq_length=512,\n",
    "                              decoder_max_length=4,\n",
    "                              batch_size=1)\n",
    "# %%\n",
    "model = PromptForGeneration(plm, template, freeze_plm=True, plm_eval_mode=True, tokenizer=tokenizer)\n",
    "if use_cuda:\n",
    "    model = model.cuda()\n",
    "# %%\n",
    "preds = []\n",
    "for i, inputs in tqdm(enumerate(dataloader),total=len(dataloader)):\n",
    "    if use_cuda:\n",
    "        inputs = inputs.cuda()\n",
    "    _, output_sentence = model.generate(inputs, **generation_arguments)\n",
    "    preds.append(output_sentence[0].split('.')[0].split(' or ')[0].strip())"
   ]
  },
  {
   "cell_type": "code",
   "execution_count": null,
   "metadata": {},
   "outputs": [],
   "source": [
    "pd.DataFrame(preds).to_csv('cot_gptj_scn.csv',index=False)"
   ]
  },
  {
   "cell_type": "code",
   "execution_count": null,
   "metadata": {},
   "outputs": [],
   "source": []
  }
 ],
 "metadata": {
  "kernelspec": {
   "display_name": "Python 3 (ipykernel)",
   "language": "python",
   "name": "python3"
  },
  "language_info": {
   "codemirror_mode": {
    "name": "ipython",
    "version": 3
   },
   "file_extension": ".py",
   "mimetype": "text/x-python",
   "name": "python",
   "nbconvert_exporter": "python",
   "pygments_lexer": "ipython3",
   "version": "3.9.7"
  }
 },
 "nbformat": 4,
 "nbformat_minor": 2
}
